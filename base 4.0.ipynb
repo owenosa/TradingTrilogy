{
 "cells": [
  {
   "cell_type": "markdown",
   "metadata": {},
   "source": [
    "LOAD LIBRARIES"
   ]
  },
  {
   "cell_type": "code",
   "execution_count": 1,
   "metadata": {},
   "outputs": [],
   "source": [
    "import pandas as pd\n",
    "from datetime import datetime, timedelta"
   ]
  },
  {
   "cell_type": "markdown",
   "metadata": {},
   "source": [
    "REQUESTS"
   ]
  },
  {
   "cell_type": "code",
   "execution_count": 2,
   "metadata": {},
   "outputs": [
    {
     "name": "stderr",
     "output_type": "stream",
     "text": [
      "c:\\Users\\owen.osagiede\\AppData\\Local\\anaconda3\\Lib\\site-packages\\openpyxl\\styles\\stylesheet.py:237: UserWarning: Workbook contains no default style, apply openpyxl's default\n",
      "  warn(\"Workbook contains no default style, apply openpyxl's default\")\n"
     ]
    },
    {
     "name": "stdout",
     "output_type": "stream",
     "text": [
      "Generated 15 Raise Cash rows → Raise_Cash_Requests.xlsx\n",
      "Exported 19 account changes → Model_Changes.xlsx\n",
      "Collected 33 account numbers → account_number_df\n"
     ]
    },
    {
     "name": "stderr",
     "output_type": "stream",
     "text": [
      "c:\\Users\\owen.osagiede\\AppData\\Local\\anaconda3\\Lib\\site-packages\\openpyxl\\styles\\stylesheet.py:237: UserWarning: Workbook contains no default style, apply openpyxl's default\n",
      "  warn(\"Workbook contains no default style, apply openpyxl's default\")\n"
     ]
    }
   ],
   "source": [
    "import os\n",
    "import glob\n",
    "import pandas as pd\n",
    "from datetime import datetime\n",
    "\n",
    "# ───── CONSTANTS ─────\n",
    "FILES_DIR      = \"Files\"\n",
    "RC_FILE_NAME   = \"Trade Requests - Last 3 RCsh.xlsx\"\n",
    "LIQ_FILE_NAME  = \"Trade Requests - Last 3 AcctLiq Custom.xlsx\"\n",
    "ACCOUNT_ID_CSV = os.path.join(FILES_DIR, \"Constant\", \"AccountID.csv\")\n",
    "\n",
    "# Column names\n",
    "RC_ACCT_COL      = 'Related Process: Account Number'\n",
    "RC_GROSS_COL     = 'Related Process: Gross Amount Requested'\n",
    "RC_MINSET_COL    = 'Related Process: Amount to be set aside'\n",
    "PSC_MODEL_COL    = 'New Model Trading'\n",
    "\n",
    "LIQ_ACCT_COL     = 'Related Process: Account Number'\n",
    "TRADE_TYPE_COL   = 'Related Process: Trade Request Type(s)'\n",
    "IS_CLOSING_COL   = 'Related Process: Is the Account closing?'\n",
    "\n",
    "today_str = datetime.today().strftime('%m-%d-%Y')\n",
    "\n",
    "# ───── Load Account-ID lookup ─────\n",
    "acct_id_df = pd.read_csv(ACCOUNT_ID_CSV, dtype=str)\n",
    "acct_id_df.rename(columns={'Account Number': 'ACCOUNT NUMBER'}, inplace=True)\n",
    "\n",
    "# ───── 1) Process Raise-Cash file ─────\n",
    "rc_path = os.path.join(FILES_DIR, RC_FILE_NAME)\n",
    "if not os.path.exists(rc_path):\n",
    "    raise FileNotFoundError(f\"Cannot find {rc_path}\")\n",
    "df_rc = pd.read_excel(rc_path)\n",
    "\n",
    "# A) Raise-Cash & Cash-Minimum\n",
    "cash_rows = []\n",
    "for _, r in df_rc.iterrows():\n",
    "    acct = r.get(RC_ACCT_COL)\n",
    "    if pd.isna(acct):\n",
    "        continue\n",
    "\n",
    "    gross = r.get(RC_GROSS_COL)\n",
    "    if pd.notna(gross):\n",
    "        cash_rows.append({\n",
    "            'Account ID': None,\n",
    "            'Account Number': str(acct),\n",
    "            'Set Aside Type ($ or %)': '$',\n",
    "            'Set Aside Amount': gross,\n",
    "            'Set Aside Minimum': gross,\n",
    "            'Set Aside Maximum': None,\n",
    "            'Expiration Type': 'Transaction',\n",
    "            'Expiration Date': None,\n",
    "            'Transaction Type': 'Distribution/Merge Out',\n",
    "            'Transaction Tolerance Band (%)': 40,\n",
    "            'Percent Calculation Type': None,\n",
    "            'Description': 'Raise Cash',\n",
    "            'Start Date': today_str\n",
    "        })\n",
    "\n",
    "    minimum = r.get(RC_MINSET_COL)\n",
    "    if pd.notna(minimum):\n",
    "        cash_rows.append({\n",
    "            'Account ID': None,\n",
    "            'Account Number': str(acct),\n",
    "            'Set Aside Type ($ or %)': '$',\n",
    "            'Set Aside Amount': minimum,\n",
    "            'Set Aside Minimum': minimum * 3,\n",
    "            'Set Aside Maximum': None,\n",
    "            'Expiration Type': None,\n",
    "            'Expiration Date': None,\n",
    "            'Transaction Type': None,\n",
    "            'Transaction Tolerance Band (%)': None,\n",
    "            'Percent Calculation Type': None,\n",
    "            'Description': 'Cash Minimum',\n",
    "            'Start Date': today_str\n",
    "        })\n",
    "\n",
    "# Export Raise Cash\n",
    "out_cash_df = pd.DataFrame(cash_rows)\n",
    "out_cash_df.to_excel(\"Raise_Cash_Requests.xlsx\", index=False)\n",
    "print(f\"Generated {len(out_cash_df)} Raise Cash rows → Raise_Cash_Requests.xlsx\")\n",
    "\n",
    "# B) PSC / New-Model from same file\n",
    "df_psc = df_rc[df_rc[PSC_MODEL_COL].notna()].copy()\n",
    "df_psc[RC_ACCT_COL] = df_psc[RC_ACCT_COL].astype(str)\n",
    "df_psc = df_psc.merge(\n",
    "    acct_id_df[['ACCOUNT NUMBER','Account ID']],\n",
    "    left_on=RC_ACCT_COL, right_on='ACCOUNT NUMBER', how='left'\n",
    ")\n",
    "\n",
    "psc_rows = []\n",
    "for _, r in df_psc.iterrows():\n",
    "    psc_rows.append({\n",
    "        'Account Change History ID': 0,\n",
    "        'Account ID': r['Account ID'],\n",
    "        'Change Type': 'Aggregated Model',\n",
    "        'Change Date': today_str,\n",
    "        'Next': r[PSC_MODEL_COL],\n",
    "        'Remove Account Change': None\n",
    "    })\n",
    "\n",
    "# ───── 2) Process Liquidation file ─────\n",
    "liq_path = os.path.join(FILES_DIR, LIQ_FILE_NAME)\n",
    "if not os.path.exists(liq_path):\n",
    "    raise FileNotFoundError(f\"Cannot find {liq_path}\")\n",
    "df_liq = pd.read_excel(liq_path)\n",
    "\n",
    "df_liq = df_liq[df_liq[TRADE_TYPE_COL]=='Account Liquidation'].copy()\n",
    "df_liq[LIQ_ACCT_COL] = df_liq[LIQ_ACCT_COL].astype(str)\n",
    "df_liq = df_liq.merge(\n",
    "    acct_id_df[['ACCOUNT NUMBER','Account ID']],\n",
    "    left_on=LIQ_ACCT_COL, right_on='ACCOUNT NUMBER', how='left'\n",
    ")\n",
    "\n",
    "liq_rows = []\n",
    "for _, r in df_liq.iterrows():\n",
    "    next_flag = (\n",
    "        'Liquidated Closed'\n",
    "        if str(r[IS_CLOSING_COL]).strip().lower()=='yes'\n",
    "        else 'Liquidated Open'\n",
    "    )\n",
    "    liq_rows.append({\n",
    "        'Account Change History ID': 0,\n",
    "        'Account ID': r['Account ID'],\n",
    "        'Change Type': 'Account Liquidation',\n",
    "        'Change Date': today_str,\n",
    "        'Next': next_flag,\n",
    "        'Remove Account Change': None\n",
    "    })\n",
    "\n",
    "# ───── 3) Combine PSC + Liquidation → Model_Changes.xlsx ─────\n",
    "all_rows = psc_rows + liq_rows\n",
    "ModelChanges = pd.DataFrame(all_rows, columns=[\n",
    "    'Account Change History ID',\n",
    "    'Account ID',\n",
    "    'Change Type',\n",
    "    'Change Date',\n",
    "    'Next',\n",
    "    'Remove Account Change'\n",
    "])\n",
    "ModelChanges.to_excel('Model_Changes.xlsx', index=False)\n",
    "print(f\"Exported {len(ModelChanges)} account changes → Model_Changes.xlsx\")\n",
    "\n",
    "# ───── 4) Build account_number_df ─────\n",
    "\n",
    "# 4a) Raise Cash account numbers\n",
    "rc_accts = out_cash_df['Account Number'].astype(str).tolist()\n",
    "\n",
    "# 4b) PSC / New-Model account numbers (from df_psc before we merged)\n",
    "psc_accts = df_psc[RC_ACCT_COL].astype(str).tolist()\n",
    "\n",
    "# 4c) Liquidation account numbers (from df_liq before we merged)\n",
    "liq_accts = df_liq[LIQ_ACCT_COL].astype(str).tolist()\n",
    "\n",
    "# Combine them\n",
    "all_acct_numbers = rc_accts + psc_accts + liq_accts\n",
    "\n",
    "# Create the DataFrame\n",
    "account_number_df = pd.DataFrame({\n",
    "    'Account Numbers': all_acct_numbers\n",
    "})\n",
    "\n",
    "# drop duplicates if you only want each number once:\n",
    "account_number_df = account_number_df.drop_duplicates().reset_index(drop=True)\n",
    "\n",
    "print(f\"Collected {len(account_number_df)} account numbers → account_number_df\")"
   ]
  },
  {
   "cell_type": "markdown",
   "metadata": {},
   "source": [
    "ALERTS"
   ]
  },
  {
   "cell_type": "code",
   "execution_count": 3,
   "metadata": {
    "vscode": {
     "languageId": "ruby"
    }
   },
   "outputs": [
    {
     "name": "stdout",
     "output_type": "stream",
     "text": [
      "✅ No notification accounts were already in the master list.\n",
      "Appended 1 new account(s) to master list.\n"
     ]
    }
   ],
   "source": [
    "from datetime import datetime, timedelta\n",
    "\n",
    "# ───── after building account_number_df ─────\n",
    "# Rename its column to match the notification DFs\n",
    "account_number_df.rename(columns={'Account Numbers': 'Account Number'}, inplace=True)\n",
    "\n",
    "# 5) Import Schwab Noti.csv and LPL Noti.csv \n",
    "schwab_noti_df = pd.read_csv('Files/Schwab Noti.csv')\n",
    "lpl_noti_df    = pd.read_csv('Files/LPL Noti.csv')\n",
    "\n",
    "# Filter Schwab: Subject starts with 'Move Money'\n",
    "schwab_noti_df = schwab_noti_df[\n",
    "    schwab_noti_df['Subject'].str.startswith('Move Money', na=False)\n",
    "]\n",
    "\n",
    "# Clean up Schwab account numbers\n",
    "schwab_noti_df['Account'] = (\n",
    "    schwab_noti_df['Account']\n",
    "      .str.replace('-', '', regex=False)\n",
    "      .astype(str)\n",
    ")\n",
    "\n",
    "# Only today’s Schwab notifications\n",
    "today = datetime.today().strftime('%m/%d/%Y')\n",
    "schwab_noti_df = schwab_noti_df[\n",
    "    schwab_noti_df['Date Created'].str.startswith(today)\n",
    "]\n",
    "\n",
    "schwab_noti_df = schwab_noti_df[['Account']].rename(\n",
    "    columns={'Account': 'Account Number'}\n",
    ")\n",
    "schwab_noti_df['Custodian'] = 'SCHWAB'\n",
    "\n",
    "# Filter LPL: Category == 'Insufficient Funds'\n",
    "lpl_noti_df = lpl_noti_df[\n",
    "    lpl_noti_df['Category'] == 'Insufficient Funds'\n",
    "]\n",
    "lpl_noti_df['Account'] = (\n",
    "    lpl_noti_df['Account']\n",
    "      .str.replace('-', '', regex=False)\n",
    "      .astype(str)\n",
    ")\n",
    "lpl_noti_df = lpl_noti_df[['Account']].rename(\n",
    "    columns={'Account': 'Account Number'}\n",
    ")\n",
    "lpl_noti_df['Custodian'] = 'LPL'\n",
    "\n",
    "# Combine notifications\n",
    "noti_df = pd.concat([schwab_noti_df, lpl_noti_df], ignore_index=True)\n",
    "\n",
    "# 1) Find overlaps\n",
    "existing = set(account_number_df['Account Number'])\n",
    "incoming = set(noti_df['Account Number'])\n",
    "overlap = existing & incoming\n",
    "\n",
    "if overlap:\n",
    "    print(f\"⚠️ {len(overlap)} account(s) already present in master list: {sorted(overlap)}\")\n",
    "else:\n",
    "    print(\"✅ No notification accounts were already in the master list.\")\n",
    "\n",
    "# 2) Append only new notification accounts\n",
    "new_accounts = incoming - existing\n",
    "if new_accounts:\n",
    "    new_df = pd.DataFrame({'Account Number': list(new_accounts)})\n",
    "    account_number_df = pd.concat([account_number_df, new_df], ignore_index=True)\n",
    "    account_number_df = account_number_df.drop_duplicates(subset=['Account Number'])\n",
    "    print(f\"Appended {len(new_accounts)} new account(s) to master list.\")\n",
    "else:\n",
    "    print(\"No new accounts to append.\")"
   ]
  },
  {
   "cell_type": "markdown",
   "metadata": {},
   "source": [
    "REBALANCES"
   ]
  },
  {
   "cell_type": "code",
   "execution_count": 4,
   "metadata": {},
   "outputs": [
    {
     "name": "stdout",
     "output_type": "stream",
     "text": [
      "Generated 380 rebalance rows → Rebalance.csv\n",
      "Appended 96 new account(s) to master list.\n"
     ]
    }
   ],
   "source": [
    "# 1) Load the OOM.csv file\n",
    "oom_df = pd.read_csv('Files/OOM.csv')\n",
    "\n",
    "# 2) Drop any OOM rows whose Account # is in the master list\n",
    "oom_df = oom_df[\n",
    "    ~oom_df['Account #'].astype(int)\n",
    "           .isin(account_number_df['Account Number'].astype(int))\n",
    "]\n",
    "\n",
    "# 3) Apply your existing filters\n",
    "oom_df = (\n",
    "    oom_df[~oom_df['Account Model']\n",
    "               .str.contains('Custom|Tailored|Legacy', na=False)]\n",
    "          .dropna(subset=['Account Model'])\n",
    ")\n",
    "oom_df = oom_df[oom_df['Account Value'] >= 100]\n",
    "\n",
    "bad_tickers = ('RSX', 'DEWM', 'CPUT', '9999227', 'SchwabCash', 'SWGXX')\n",
    "oom_df = oom_df[~oom_df['Ticker'].isin(bad_tickers)]\n",
    "\n",
    "oom_df = (\n",
    "    oom_df[~oom_df['Account Model']\n",
    "               .str.contains('Liquidated', na=False)]\n",
    "          .dropna(subset=['Account Model'])\n",
    ")\n",
    "oom_df = oom_df[oom_df['Current Units'] >= 1]\n",
    "\n",
    "# 4) Prepare the output CSV\n",
    "oom_df.rename(columns={'Account #': 'Account Number'}, inplace=True)\n",
    "oom_df['Account Number'] = oom_df['Account Number'].astype(int)\n",
    "\n",
    "rebalance_df = oom_df[['Account Number']]\n",
    "rebalance_df.to_csv('Rebalance.csv', index=False)\n",
    "print(f\"Generated {len(rebalance_df)} rebalance rows → Rebalance.csv\")\n",
    "\n",
    "# 5) Append these new account numbers to your master list\n",
    "existing = set(account_number_df['Account Number'].astype(int))\n",
    "incoming = set(rebalance_df['Account Number'])\n",
    "new_accounts = incoming - existing\n",
    "\n",
    "if new_accounts:\n",
    "    new_df = pd.DataFrame({'Account Number': list(new_accounts)})\n",
    "    account_number_df = pd.concat([account_number_df, new_df], ignore_index=True)\n",
    "    account_number_df = account_number_df.drop_duplicates(subset=['Account Number'])\n",
    "    print(f\"Appended {len(new_accounts)} new account(s) to master list.\")\n",
    "else:\n",
    "    print(\"No new OOM accounts to append to master list.\")\n"
   ]
  },
  {
   "cell_type": "markdown",
   "metadata": {},
   "source": [
    "CONTRIBUTIONS"
   ]
  },
  {
   "cell_type": "code",
   "execution_count": 5,
   "metadata": {
    "vscode": {
     "languageId": "ruby"
    }
   },
   "outputs": [
    {
     "name": "stdout",
     "output_type": "stream",
     "text": [
      "Exported 3140 accounts → Contributions.csv\n",
      "Appended 3140 new account(s) to master list.\n"
     ]
    }
   ],
   "source": [
    "import pandas as pd\n",
    "\n",
    "# 0) assume you already have:\n",
    "#    account_number_df = pd.DataFrame({'Account Number': [...]}, dtype=str)\n",
    "\n",
    "# 1) Load the Accounts.csv file (read everything as string)\n",
    "accounts_df = pd.read_csv('Files/Accounts.csv', dtype=str)\n",
    "\n",
    "# 2) Normalize Account Number → strip out non-digits, drop empties\n",
    "accounts_df['Account Number'] = (\n",
    "    accounts_df['Account Number']\n",
    "      .fillna('')                       \n",
    "      .str.replace(r'\\D', '', regex=True)\n",
    ")\n",
    "accounts_df = accounts_df[accounts_df['Account Number'] != \"\"]\n",
    "\n",
    "# 3) Drop any that are already in your master list\n",
    "accounts_df = accounts_df[\n",
    "    ~accounts_df['Account Number']\n",
    "      .isin(account_number_df['Account Number'])\n",
    "]\n",
    "\n",
    "# 4) Filter out unwanted models\n",
    "accounts_df = (\n",
    "    accounts_df[~accounts_df['Model']\n",
    "                         .str.contains('Custom|Liquidated|Tailored', na=False)]\n",
    "               .dropna(subset=['Model'])\n",
    ")\n",
    "\n",
    "# 5) Clean up dollar columns → to float\n",
    "for col in ['Current Cash $', 'Set Aside Cash Target', 'Total Value']:\n",
    "    accounts_df[col] = (\n",
    "        accounts_df[col]\n",
    "          .str.replace('[$,]', '', regex=True)\n",
    "          .astype(float)\n",
    "    )\n",
    "\n",
    "# 6) Compute True Cash Value\n",
    "accounts_df['True Cash Value'] = (\n",
    "    (accounts_df['Current Cash $'] - accounts_df['Set Aside Cash Target'])\n",
    "    / accounts_df['Total Value']\n",
    ")\n",
    "\n",
    "# 7) Numeric filters\n",
    "accounts_df = accounts_df[accounts_df['Total Value'] >= 100]\n",
    "accounts_df = accounts_df[accounts_df['True Cash Value'] >= 0.03]\n",
    "\n",
    "# 8) Export the remaining Account Numbers\n",
    "contrib_df = accounts_df[['Account Number']].copy()\n",
    "contrib_df.to_csv('Contributions.csv', index=False)\n",
    "print(f\"Exported {len(contrib_df)} accounts → Contributions.csv\")\n",
    "\n",
    "# 9) Append new ones to your master list (all as strings)\n",
    "existing = set(account_number_df['Account Number'])\n",
    "incoming = set(contrib_df['Account Number'])\n",
    "new_accounts = incoming - existing\n",
    "\n",
    "if new_accounts:\n",
    "    new_df = pd.DataFrame({'Account Number': list(new_accounts)}, dtype=str)\n",
    "    account_number_df = pd.concat([account_number_df, new_df], ignore_index=True)\n",
    "    account_number_df = account_number_df.drop_duplicates(subset=['Account Number'])\n",
    "    print(f\"Appended {len(new_accounts)} new account(s) to master list.\")\n",
    "else:\n",
    "    print(\"No new Contribution accounts to append to master list.\")\n"
   ]
  },
  {
   "cell_type": "code",
   "execution_count": 6,
   "metadata": {
    "vscode": {
     "languageId": "ruby"
    }
   },
   "outputs": [],
   "source": [
    "account_number_df.to_csv('Master Account Numbers.csv', index=False)"
   ]
  },
  {
   "cell_type": "code",
   "execution_count": null,
   "metadata": {
    "vscode": {
     "languageId": "ruby"
    }
   },
   "outputs": [],
   "source": []
  }
 ],
 "metadata": {
  "kernelspec": {
   "display_name": "base",
   "language": "python",
   "name": "python3"
  },
  "language_info": {
   "codemirror_mode": {
    "name": "ipython",
    "version": 3
   },
   "file_extension": ".py",
   "mimetype": "text/x-python",
   "name": "python",
   "nbconvert_exporter": "python",
   "pygments_lexer": "ipython3",
   "version": "3.12.7"
  }
 },
 "nbformat": 4,
 "nbformat_minor": 2
}
